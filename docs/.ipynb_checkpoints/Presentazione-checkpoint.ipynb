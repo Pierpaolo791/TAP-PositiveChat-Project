{
 "cells": [
  {
   "cell_type": "markdown",
   "metadata": {},
   "source": [
    "# Positive Chat \n"
   ]
  },
  {
   "cell_type": "markdown",
   "metadata": {},
   "source": [
    "## Obiettivo del progetto\n",
    "Chi passa qualche ora al PC, soprattutto in giovane età e non per solo scopi lavorativi, sicuramente si è imbattuto in qualche servizio di chating. Spesso tantissime conversazione degenerano in flame e ciò rendono la chat posti particolarmente negativi dove vivere. Soprattutto se ciò che si cerca è solamente un po' di svago e sano confronto di idee. \n",
    "L'obiettivo sarà quello di creare delle chat di contenuti e utenti **positivi**. "
   ]
  },
  {
   "cell_type": "markdown",
   "metadata": {},
   "source": [
    "## Sviluppo\n",
    "\n",
    "Per realizzare tutto ciò utilizzerò un sistema di Sentiment Analysis. In particolare la libreria, già testata, adoperata è [VaderSentimentJava](https://github.com/apanimesh061/VaderSentimentJava), ovvero un porting in Java della libreria originale VADER (Valence Aware Dictionary and sEntiment Reasoner). Inoltre, Positive Chat è stato creato con l'utilizzo di potenti servizi e strumenti. "
   ]
  },
  {
   "cell_type": "markdown",
   "metadata": {},
   "source": [
    "\n",
    "## Tecnologie Utilizzate\n",
    "| Scopo| Servizio| Logo|\n",
    "| :-------------: |:-------------:| :-----:|\n",
    "| Framework API     | Spring Boot |  |\n",
    "| col 2 is      | centered      |   $12 |\n",
    "| zebra stripes | are neat      |    $1 | "
   ]
  }
 ],
 "metadata": {
  "kernelspec": {
   "display_name": "Python 3",
   "language": "python",
   "name": "python3"
  },
  "language_info": {
   "codemirror_mode": {
    "name": "ipython",
    "version": 3
   },
   "file_extension": ".py",
   "mimetype": "text/x-python",
   "name": "python",
   "nbconvert_exporter": "python",
   "pygments_lexer": "ipython3",
   "version": "3.6.9"
  }
 },
 "nbformat": 4,
 "nbformat_minor": 4
}
